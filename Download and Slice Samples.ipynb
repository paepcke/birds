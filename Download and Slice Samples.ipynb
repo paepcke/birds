{
 "cells": [
  {
   "cell_type": "markdown",
   "metadata": {},
   "source": [
    "# Download and Slice Samples\n",
    "This notebook outline how downloading the file from XenoCanto works, and how the distribution changes after splitting into 5 second windows"
   ]
  },
  {
   "cell_type": "code",
   "execution_count": 1,
   "metadata": {},
   "outputs": [
    {
     "data": {
      "text/plain": [
       "'0.8.0'"
      ]
     },
     "execution_count": 1,
     "metadata": {},
     "output_type": "execute_result"
    }
   ],
   "source": [
    "import librosa\n",
    "librosa.__version__"
   ]
  },
  {
   "cell_type": "markdown",
   "metadata": {},
   "source": [
    "# 1. Download Samples\n",
    "Download recordings from XenoCanto.\n",
    "- Appropriately splits call/song for species, specified in BIRDLIST in download-from-metadata.py\n",
    "- You can change the birds to be downloaded by changing BIRDLIST"
   ]
  },
  {
   "cell_type": "code",
   "execution_count": 14,
   "metadata": {},
   "outputs": [],
   "source": [
    "import sys\n",
    "sys.path.append('src/birdsong')\n",
    "import numpy as np\n",
    "import pandas as pd"
   ]
  },
  {
   "cell_type": "code",
   "execution_count": 21,
   "metadata": {},
   "outputs": [],
   "source": [
    "RAW_DOWNLOADS_DIR = '../meta_test'\n",
    "METADATA_PATH = 'test.json'"
   ]
  },
  {
   "cell_type": "code",
   "execution_count": 22,
   "metadata": {},
   "outputs": [
    {
     "name": "stderr",
     "output_type": "stream",
     "text": [
      "download_from_metadata.py(18989): 2021-04-07 10:56:00,062;INFO: Note: if dowloads requested, will overwrite any existing recordings.\n"
     ]
    },
    {
     "name": "stdout",
     "output_type": "stream",
     "text": [
      "ERROR: Please check that the birds in metadata are the same as those in BIRDLIST\n",
      "Birds in metadata: ['Tangaragyrola'].\n",
      "Birds in BIRDLIST: ['Corapipoaltera', 'Tangaragyrola'].\n"
     ]
    }
   ],
   "source": [
    "%run src/download_from_metadata.py $METADATA_PATH $RAW_DOWNLOADS_DIR"
   ]
  },
  {
   "cell_type": "markdown",
   "metadata": {},
   "source": [
    "# 2. Data Exploration of Downloaded samples"
   ]
  },
  {
   "cell_type": "code",
   "execution_count": 16,
   "metadata": {},
   "outputs": [],
   "source": [
    "# Show Distribution of Samples by Class\n",
    "# sys.path.append('data_augmentation/src')\n",
    "from data_augmentation.src.utils import sample_compositions_by_species"
   ]
  },
  {
   "cell_type": "code",
   "execution_count": 6,
   "metadata": {},
   "outputs": [
    {
     "data": {
      "text/plain": [
       "<AxesSubplot:title={'center':'By Sample'}>"
      ]
     },
     "execution_count": 6,
     "metadata": {},
     "output_type": "execute_result"
    },
    {
     "data": {
      "image/png": "[encoded data removed]",
      "text/plain": [
       "<Figure size 432x288 with 1 Axes>"
      ]
     },
     "metadata": {
      "needs_background": "light"
     },
     "output_type": "display_data"
    }
   ],
   "source": [
    "raw_species_by_samples_df = sample_compositions_by_species(RAW_DOWNLOADS_DIR, augmented=False)\n",
    "raw_species_by_samples_df.plot.bar(title='By Sample')"
   ]
  },
  {
   "cell_type": "code",
   "execution_count": 7,
   "metadata": {},
   "outputs": [
    {
     "name": "stdout",
     "output_type": "stream",
     "text": [
      "By samples:\n",
      "Median: 9.5,  Min: 7 (CORALT_S) ,  Max: 12 (CORALT_C)\n",
      "10% of max is 2\n"
     ]
    }
   ],
   "source": [
    "# Median, Min, Max by samples\n",
    "def print_median_min_max(df):\n",
    "    df_np = df.values.flatten()\n",
    "    index_max, index_min = df.idxmax().to_numpy()[0], df.idxmin().to_numpy()[0]\n",
    "\n",
    "    val_max = np.max(df_np)\n",
    "    max_tenth = val_max//10 +1\n",
    "    val_median = np.median(df_np)\n",
    "\n",
    "    print(f\"Median: {val_median},  Min: {np.min(df_np)} ({index_min}) ,  Max: {val_max} ({index_max})\")\n",
    "    print(f\"10% of max is {max_tenth}\")\n",
    "    \n",
    "# Print the median, min, max by samples and by recording lengths\n",
    "print(\"By samples:\")\n",
    "print_median_min_max(raw_species_by_samples_df)"
   ]
  },
  {
   "cell_type": "code",
   "execution_count": 8,
   "metadata": {},
   "outputs": [],
   "source": [
    "# 3. Use sliding window to split audio into 5 second segments"
   ]
  },
  {
   "cell_type": "code",
   "execution_count": 9,
   "metadata": {},
   "outputs": [],
   "source": [
    "# Supress all warnings (mostly cannot use Pysound...)\n",
    "import warnings\n",
    "warnings.simplefilter(\"ignore\")"
   ]
  },
  {
   "cell_type": "code",
   "execution_count": 11,
   "metadata": {},
   "outputs": [
    {
     "name": "stdout",
     "output_type": "stream",
     "text": [
      "../meta_test_segmented already exists. Do you want to rewrite ../meta_test_segmented? [y/N]  y\n",
      "../meta_test_segmented/spectrograms/ already exists. Do you want to rewrite ../meta_test_segmented/spectrograms/? [y/N]  y\n",
      "../meta_test_segmented/wav-files/ already exists. Do you want to rewrite ../meta_test_segmented/wav-files/? [y/N]  y\n",
      "../meta_test_segmented/spectrograms/CORALT_S already exists. Do you want to rewrite ../meta_test_segmented/spectrograms/CORALT_S? [y/N]  y\n",
      "../meta_test_segmented/wav-files/CORALT_S already exists. Do you want to rewrite ../meta_test_segmented/wav-files/CORALT_S? [y/N]  y\n"
     ]
    }
   ],
   "source": [
    "%run sliding-window.py $RAW_DOWNLOADS_DIR {RAW_DOWNLOADS_DIR}_segmented"
   ]
  },
  {
   "cell_type": "code",
   "execution_count": 18,
   "metadata": {},
   "outputs": [],
   "source": [
    "SEGMENTED_WAV_DIR = '../meta_test_segmented/wav-files'"
   ]
  },
  {
   "cell_type": "code",
   "execution_count": 19,
   "metadata": {},
   "outputs": [
    {
     "data": {
      "text/plain": [
       "<AxesSubplot:title={'center':'By Sample'}>"
      ]
     },
     "execution_count": 19,
     "metadata": {},
     "output_type": "execute_result"
    },
    {
     "data": {
      "image/png": "[encoded data removed]",
      "text/plain": [
       "<Figure size 432x288 with 1 Axes>"
      ]
     },
     "metadata": {
      "needs_background": "light"
     },
     "output_type": "display_data"
    }
   ],
   "source": [
    "segmented_species_by_samples_df = sample_compositions_by_species(SEGMENTED_WAV_DIR, augmented=False)\n",
    "segmented_species_by_samples_df.plot.bar(title='By Sample')"
   ]
  },
  {
   "cell_type": "code",
   "execution_count": 20,
   "metadata": {},
   "outputs": [
    {
     "name": "stdout",
     "output_type": "stream",
     "text": [
      "By samples:\n",
      "Median: 206.0,  Min: 136 (CORALT_S) ,  Max: 276 (CORALT_C)\n",
      "10% of max is 28\n"
     ]
    }
   ],
   "source": [
    "# Print the median, min, max by samples and by recording lengths\n",
    "print(\"By samples:\")\n",
    "print_median_min_max(segmented_species_by_samples_df)"
   ]
  },
  {
   "cell_type": "code",
   "execution_count": null,
   "metadata": {},
   "outputs": [],
   "source": []
  }
 ],
 "metadata": {
  "kernelspec": {
   "display_name": "birds_new",
   "language": "python",
   "name": "birds_new"
  },
  "language_info": {
   "codemirror_mode": {
    "name": "ipython",
    "version": 3
   },
   "file_extension": ".py",
   "mimetype": "text/x-python",
   "name": "python",
   "nbconvert_exporter": "python",
   "pygments_lexer": "ipython3",
   "version": "3.9.2"
  }
 },
 "nbformat": 4,
 "nbformat_minor": 4
}
